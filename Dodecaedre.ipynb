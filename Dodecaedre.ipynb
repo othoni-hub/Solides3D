{
  "nbformat": 4,
  "nbformat_minor": 0,
  "metadata": {
    "colab": {
      "provenance": [],
      "authorship_tag": "ABX9TyMx+zoSLnZV+SGO/QESQG4L",
      "include_colab_link": true
    },
    "kernelspec": {
      "name": "python3",
      "display_name": "Python 3"
    },
    "language_info": {
      "name": "python"
    },
    "widgets": {
      "application/vnd.jupyter.widget-state+json": {
        "3fb0d46c17d24a96b8ace29ebdf5cfea": {
          "model_module": "@jupyter-widgets/controls",
          "model_name": "VBoxModel",
          "model_module_version": "1.5.0",
          "state": {
            "_dom_classes": [],
            "_model_module": "@jupyter-widgets/controls",
            "_model_module_version": "1.5.0",
            "_model_name": "VBoxModel",
            "_view_count": null,
            "_view_module": "@jupyter-widgets/controls",
            "_view_module_version": "1.5.0",
            "_view_name": "VBoxView",
            "box_style": "",
            "children": [
              "IPY_MODEL_fdb04a5c0f7a41a1a53f6fc64c833420"
            ],
            "layout": "IPY_MODEL_46f556b96193457a8b87acd6d46f23f9"
          }
        },
        "fdb04a5c0f7a41a1a53f6fc64c833420": {
          "model_module": "ipyvolume",
          "model_name": "FigureModel",
          "model_module_version": "~0.5.2",
          "state": {
            "_dom_classes": [],
            "_model_module": "ipyvolume",
            "_model_module_version": "~0.5.2",
            "_model_name": "FigureModel",
            "_view_count": null,
            "_view_module": "ipyvolume",
            "_view_module_version": "~0.5.2",
            "_view_name": "FigureView",
            "ambient_coefficient": 0.5,
            "animation": 1000,
            "animation_exponent": 1,
            "camera": "IPY_MODEL_56be7ff063aa4962849ad88ad0f1c52b",
            "camera_center": [
              0,
              0,
              0
            ],
            "camera_control": "trackball",
            "camera_fov": 45,
            "capture_fps": null,
            "cube_resolution": 512,
            "diffuse_coefficient": 0.8,
            "displayscale": 1,
            "downscale": 1,
            "eye_separation": 6.4,
            "height": 500,
            "layout": "IPY_MODEL_165449367f2443d9b2e4abdd6b300cee",
            "matrix_projection": [
              2.9448154572796907,
              0,
              0,
              0,
              0,
              2.3558523658237527,
              0,
              0,
              0,
              0,
              -1.00010000500025,
              -1,
              0,
              0,
              -0.200010000500025,
              0
            ],
            "matrix_world": [
              0.2816924654389876,
              -0.008048469234257637,
              -0.12679148185275002,
              0,
              0.012196355043136736,
              0.3086850708975307,
              0.007501915833601992,
              0,
              0.12645990135648844,
              -0.011842802054324116,
              0.2817075508411792,
              0,
              -9.654406652597767e-17,
              -5.881719372741241e-17,
              -2.283536,
              1
            ],
            "meshes": [
              "IPY_MODEL_137bcf9a05d343c6b01dfcd286d46a64"
            ],
            "mouse_mode": "normal",
            "panorama_mode": "no",
            "render_continuous": false,
            "scatters": [],
            "scene": "IPY_MODEL_63864aa5bfbb4d6880e613d052b1394d",
            "selection_mode": "replace",
            "selector": "lasso",
            "show": "Volume",
            "specular_coefficient": 0.5,
            "specular_exponent": 5,
            "stereo": false,
            "style": {
              "axes": {
                "visible": false,
                "label": {
                  "color": "black"
                },
                "ticklabel": {
                  "color": "black"
                },
                "color": "black"
              },
              "box": {
                "visible": false
              },
              "background-color": "white"
            },
            "volumes": [],
            "width": 400,
            "xlabel": "x",
            "xlim": [
              -1.618033988749895,
              1.618033988749895
            ],
            "ylabel": "y",
            "ylim": [
              -1.618033988749895,
              1.618033988749895
            ],
            "zlabel": "z",
            "zlim": [
              -1.618033988749895,
              1.618033988749895
            ]
          }
        },
        "46f556b96193457a8b87acd6d46f23f9": {
          "model_module": "@jupyter-widgets/base",
          "model_name": "LayoutModel",
          "model_module_version": "1.2.0",
          "state": {
            "_model_module": "@jupyter-widgets/base",
            "_model_module_version": "1.2.0",
            "_model_name": "LayoutModel",
            "_view_count": null,
            "_view_module": "@jupyter-widgets/base",
            "_view_module_version": "1.2.0",
            "_view_name": "LayoutView",
            "align_content": null,
            "align_items": null,
            "align_self": null,
            "border": null,
            "bottom": null,
            "display": null,
            "flex": null,
            "flex_flow": null,
            "grid_area": null,
            "grid_auto_columns": null,
            "grid_auto_flow": null,
            "grid_auto_rows": null,
            "grid_column": null,
            "grid_gap": null,
            "grid_row": null,
            "grid_template_areas": null,
            "grid_template_columns": null,
            "grid_template_rows": null,
            "height": null,
            "justify_content": null,
            "justify_items": null,
            "left": null,
            "margin": null,
            "max_height": null,
            "max_width": null,
            "min_height": null,
            "min_width": null,
            "object_fit": null,
            "object_position": null,
            "order": null,
            "overflow": null,
            "overflow_x": null,
            "overflow_y": null,
            "padding": null,
            "right": null,
            "top": null,
            "visibility": null,
            "width": null
          }
        },
        "56be7ff063aa4962849ad88ad0f1c52b": {
          "model_module": "jupyter-threejs",
          "model_name": "PerspectiveCameraModel",
          "model_module_version": "^2.1.0",
          "state": {
            "_model_module": "jupyter-threejs",
            "_model_module_version": "^2.1.0",
            "_model_name": "PerspectiveCameraModel",
            "_view_count": null,
            "_view_module": null,
            "_view_module_version": "",
            "_view_name": null,
            "aspect": 0.8,
            "castShadow": false,
            "children": [],
            "far": 2000,
            "focus": 10,
            "fov": 46,
            "frustumCulled": true,
            "matrix": [
              0.9115759669100741,
              0.03946823399731287,
              0.4092328372175144,
              0,
              -0.026045393556873388,
              0.9989258730637516,
              -0.038324112491867006,
              0,
              -0.4103058542434301,
              0.024276709599018047,
              0.9116247842970342,
              0,
              -0.9369481891756253,
              0.05543674033090328,
              2.081728013434512,
              1
            ],
            "matrixAutoUpdate": true,
            "matrixWorld": [
              0.9115759669100741,
              0.03946823399731287,
              0.4092328372175144,
              0,
              -0.026045393556873388,
              0.9989258730637516,
              -0.038324112491867006,
              0,
              -0.4103058542434301,
              0.024276709599018047,
              0.9116247842970342,
              0,
              -0.9369481891756253,
              0.05543674033090328,
              2.081728013434512,
              1
            ],
            "matrixWorldInverse": [
              0.9115759669100743,
              -0.026045393556873395,
              -0.4103058542434301,
              0,
              0.03946823399731286,
              0.9989258730637516,
              0.024276709599018047,
              0,
              0.40923283721751447,
              -0.038324112491867,
              0.9116247842970341,
              0,
              -2.1033522146218786e-17,
              -6.938893903907228e-18,
              -2.283536,
              1
            ],
            "matrixWorldNeedsUpdate": true,
            "modelViewMatrix": [
              1,
              0,
              0,
              0,
              0,
              1,
              0,
              0,
              0,
              0,
              1,
              0,
              0,
              0,
              0,
              1
            ],
            "name": "",
            "near": 0.1,
            "normalMatrix": [
              1,
              0,
              0,
              0,
              1,
              0,
              0,
              0,
              1
            ],
            "position": [
              -0.9369481891756253,
              0.05543674033090328,
              2.081728013434512
            ],
            "projectionMatrix": [
              2.9448154572796907,
              0,
              0,
              0,
              0,
              2.3558523658237527,
              0,
              0,
              0,
              0,
              -1.00010000500025,
              -1,
              0,
              0,
              -0.200010000500025,
              0
            ],
            "quaternion": [
              -0.016010227584957036,
              -0.2095979018601112,
              0.016755180715292185,
              0.9775129953446731
            ],
            "receiveShadow": false,
            "renderOrder": 0,
            "rotation": [
              -0.0266238629372142,
              -0.42278942252010854,
              0.02856405893796064,
              "XYZ"
            ],
            "scale": [
              1,
              1,
              1
            ],
            "type": "PerspectiveCamera",
            "up": [
              -0.026045393556873388,
              0.9989258730637515,
              -0.038324112491867006
            ],
            "visible": true,
            "zoom": 1
          }
        },
        "165449367f2443d9b2e4abdd6b300cee": {
          "model_module": "@jupyter-widgets/base",
          "model_name": "LayoutModel",
          "model_module_version": "1.2.0",
          "state": {
            "_model_module": "@jupyter-widgets/base",
            "_model_module_version": "1.2.0",
            "_model_name": "LayoutModel",
            "_view_count": null,
            "_view_module": "@jupyter-widgets/base",
            "_view_module_version": "1.2.0",
            "_view_name": "LayoutView",
            "align_content": null,
            "align_items": null,
            "align_self": null,
            "border": null,
            "bottom": null,
            "display": null,
            "flex": null,
            "flex_flow": null,
            "grid_area": null,
            "grid_auto_columns": null,
            "grid_auto_flow": null,
            "grid_auto_rows": null,
            "grid_column": null,
            "grid_gap": null,
            "grid_row": null,
            "grid_template_areas": null,
            "grid_template_columns": null,
            "grid_template_rows": null,
            "height": null,
            "justify_content": null,
            "justify_items": null,
            "left": null,
            "margin": null,
            "max_height": null,
            "max_width": null,
            "min_height": null,
            "min_width": null,
            "object_fit": null,
            "object_position": null,
            "order": null,
            "overflow": null,
            "overflow_x": null,
            "overflow_y": null,
            "padding": null,
            "right": null,
            "top": null,
            "visibility": null,
            "width": null
          }
        },
        "137bcf9a05d343c6b01dfcd286d46a64": {
          "model_module": "ipyvolume",
          "model_name": "MeshModel",
          "model_module_version": "~0.5.2",
          "state": {
            "_model_module": "ipyvolume",
            "_model_module_version": "~0.5.2",
            "_model_name": "MeshModel",
            "_view_count": null,
            "_view_module": "ipyvolume",
            "_view_module_version": "~0.5.2",
            "_view_name": "MeshView",
            "color": "red",
            "line_material": "IPY_MODEL_d78ca8eeab3341939224627c8ce116fc",
            "lines": null,
            "material": "IPY_MODEL_a27d35549f884cd1bebf3eff188ca5ac",
            "sequence_index": 0,
            "texture": null,
            "triangles": [
              {
                "dtype": "uint32",
                "shape": [
                  33,
                  3
                ]
              }
            ],
            "u": null,
            "v": null,
            "visible": true,
            "x": [
              {
                "dtype": "float32",
                "shape": [
                  20
                ]
              }
            ],
            "y": [
              {
                "dtype": "float32",
                "shape": [
                  20
                ]
              }
            ],
            "z": [
              {
                "dtype": "float32",
                "shape": [
                  20
                ]
              }
            ]
          }
        },
        "63864aa5bfbb4d6880e613d052b1394d": {
          "model_module": "jupyter-threejs",
          "model_name": "SceneModel",
          "model_module_version": "^2.1.0",
          "state": {
            "_model_module": "jupyter-threejs",
            "_model_module_version": "^2.1.0",
            "_model_name": "SceneModel",
            "_view_count": null,
            "_view_module": null,
            "_view_module_version": "",
            "_view_name": null,
            "autoUpdate": true,
            "background": null,
            "castShadow": false,
            "children": [],
            "fog": null,
            "frustumCulled": true,
            "matrix": [
              1,
              0,
              0,
              0,
              0,
              1,
              0,
              0,
              0,
              0,
              1,
              0,
              0,
              0,
              0,
              1
            ],
            "matrixAutoUpdate": true,
            "matrixWorld": [
              1,
              0,
              0,
              0,
              0,
              1,
              0,
              0,
              0,
              0,
              1,
              0,
              0,
              0,
              0,
              1
            ],
            "matrixWorldNeedsUpdate": false,
            "modelViewMatrix": [
              1,
              0,
              0,
              0,
              0,
              1,
              0,
              0,
              0,
              0,
              1,
              0,
              0,
              0,
              0,
              1
            ],
            "name": "",
            "normalMatrix": [
              1,
              0,
              0,
              0,
              1,
              0,
              0,
              0,
              1
            ],
            "overrideMaterial": null,
            "position": [
              0,
              0,
              0
            ],
            "quaternion": [
              0,
              0,
              0,
              1
            ],
            "receiveShadow": false,
            "renderOrder": 0,
            "rotation": [
              0,
              0,
              0,
              "XYZ"
            ],
            "scale": [
              1,
              1,
              1
            ],
            "type": "Scene",
            "up": [
              0,
              1,
              0
            ],
            "visible": true
          }
        },
        "d78ca8eeab3341939224627c8ce116fc": {
          "model_module": "jupyter-threejs",
          "model_name": "ShaderMaterialModel",
          "model_module_version": "^2.1.0",
          "state": {
            "_model_module": "jupyter-threejs",
            "_model_module_version": "^2.1.0",
            "_model_name": "ShaderMaterialModel",
            "_view_count": null,
            "_view_module": null,
            "_view_module_version": "",
            "_view_name": null,
            "alphaTest": 0,
            "blendDst": "OneMinusSrcAlphaFactor",
            "blendDstAlpha": 0,
            "blendEquation": "AddEquation",
            "blendEquationAlpha": 0,
            "blendSrc": "SrcAlphaFactor",
            "blendSrcAlpha": 0,
            "blending": "NormalBlending",
            "clipIntersection": false,
            "clipShadows": false,
            "clipping": false,
            "clippingPlanes": [],
            "colorWrite": true,
            "defines": null,
            "depthFunc": "LessEqualDepth",
            "depthTest": true,
            "depthWrite": true,
            "dithering": false,
            "extensions": {},
            "flatShading": false,
            "fog": false,
            "fragmentShader": "",
            "lights": false,
            "linewidth": 1,
            "morphNormals": false,
            "morphTargets": false,
            "name": "",
            "opacity": 1,
            "overdraw": 0,
            "polygonOffset": false,
            "polygonOffsetFactor": 0,
            "polygonOffsetUnits": 0,
            "precision": null,
            "premultipliedAlpha": false,
            "shadowSide": null,
            "side": "FrontSide",
            "skinning": false,
            "transparent": false,
            "type": "ShaderMaterial",
            "uniforms": {},
            "uniformsNeedUpdate": false,
            "vertexColors": "NoColors",
            "vertexShader": "",
            "visible": true,
            "wireframe": false,
            "wireframeLinewidth": 1
          }
        },
        "a27d35549f884cd1bebf3eff188ca5ac": {
          "model_module": "jupyter-threejs",
          "model_name": "ShaderMaterialModel",
          "model_module_version": "^2.1.0",
          "state": {
            "_model_module": "jupyter-threejs",
            "_model_module_version": "^2.1.0",
            "_model_name": "ShaderMaterialModel",
            "_view_count": null,
            "_view_module": null,
            "_view_module_version": "",
            "_view_name": null,
            "alphaTest": 0,
            "blendDst": "OneMinusSrcAlphaFactor",
            "blendDstAlpha": 0,
            "blendEquation": "AddEquation",
            "blendEquationAlpha": 0,
            "blendSrc": "SrcAlphaFactor",
            "blendSrcAlpha": 0,
            "blending": "NormalBlending",
            "clipIntersection": false,
            "clipShadows": false,
            "clipping": false,
            "clippingPlanes": [],
            "colorWrite": true,
            "defines": null,
            "depthFunc": "LessEqualDepth",
            "depthTest": true,
            "depthWrite": true,
            "dithering": false,
            "extensions": {},
            "flatShading": false,
            "fog": false,
            "fragmentShader": "",
            "lights": false,
            "linewidth": 1,
            "morphNormals": false,
            "morphTargets": false,
            "name": "",
            "opacity": 1,
            "overdraw": 0,
            "polygonOffset": false,
            "polygonOffsetFactor": 0,
            "polygonOffsetUnits": 0,
            "precision": null,
            "premultipliedAlpha": false,
            "shadowSide": null,
            "side": "DoubleSide",
            "skinning": false,
            "transparent": false,
            "type": "ShaderMaterial",
            "uniforms": {},
            "uniformsNeedUpdate": false,
            "vertexColors": "NoColors",
            "vertexShader": "",
            "visible": true,
            "wireframe": false,
            "wireframeLinewidth": 1
          }
        }
      }
    }
  },
  "cells": [
    {
      "cell_type": "markdown",
      "metadata": {
        "id": "view-in-github",
        "colab_type": "text"
      },
      "source": [
        "<a href=\"https://colab.research.google.com/github/othoni-hub/Solides3D/blob/main/Dodecaedre.ipynb\" target=\"_parent\"><img src=\"https://colab.research.google.com/assets/colab-badge.svg\" alt=\"Open In Colab\"/></a>"
      ]
    },
    {
      "cell_type": "code",
      "source": [
        "#!pip install ipyvolume"
      ],
      "metadata": {
        "id": "Wcbfrnkx4GwW"
      },
      "execution_count": null,
      "outputs": []
    },
    {
      "cell_type": "code",
      "execution_count": 4,
      "metadata": {
        "id": "Ugkd9I6y3d15"
      },
      "outputs": [],
      "source": [
        "from numpy import array, pi, cos, sin, sqrt\n",
        "import numpy as np\n",
        "import ipyvolume as ipv\n",
        "import matplotlib.pyplot as plt\n",
        "from math import sqrt"
      ]
    },
    {
      "cell_type": "code",
      "source": [
        "phi = (1+ sqrt(5))/2"
      ],
      "metadata": {
        "id": "WCyEtTD8mItP"
      },
      "execution_count": 5,
      "outputs": []
    },
    {
      "cell_type": "markdown",
      "source": [
        "# **Dodécaèdre**"
      ],
      "metadata": {
        "id": "IovTKRB5j939"
      }
    },
    {
      "cell_type": "code",
      "source": [
        "from google.colab import output\n",
        "output.enable_custom_widget_manager()"
      ],
      "metadata": {
        "id": "QVah1m6J4kuA"
      },
      "execution_count": 6,
      "outputs": []
    },
    {
      "cell_type": "code",
      "execution_count": 7,
      "metadata": {
        "id": "D_cpLvDPj6m8"
      },
      "outputs": [],
      "source": [
        "sommets = {\"A\" : [1,1,1],\"C\" : [1,-1,1], \n",
        "           \"F\" : [-1,1,1],\"H\" : [-1,-1,1],\n",
        "           \"Q\" : [1,1,-1],\"S\" : [1,-1,-1],\n",
        "           \"V\" : [-1,1,-1],\"X\" : [-1,-1,-1],\n",
        "           \"B\" : [phi-1,0,phi],\"G\" : [1-phi,0,phi],\n",
        "           \"R\" : [1-phi,0,-phi],\"W\" : [phi-1,0,-phi],\n",
        "           \"T\" : [0,phi,phi-1],\"Z\" : [0,phi,1-phi],\n",
        "           \"Y\" : [0,-phi,1-phi],\"U\" : [0,-phi,phi-1],\n",
        "           \"E\" : [phi,phi-1,0],\"D\" : [phi,1-phi,0],\n",
        "           \"I\" : [-phi,1-phi,0],\"J\" : [-phi,phi-1,0]}"
      ]
    },
    {
      "cell_type": "code",
      "source": [
        "x = [sommets[sommet][0] for sommet in sommets] # liste de abscisses\n",
        "y = [sommets[sommet][1] for sommet in sommets] # liste des ordonnées\n",
        "z = [sommets[sommet][2] for sommet in sommets] # liste des cotes"
      ],
      "metadata": {
        "id": "2Gvt9VMjn3jR"
      },
      "execution_count": 8,
      "outputs": []
    },
    {
      "cell_type": "code",
      "source": [
        "# rang des sommets dans la liste\n",
        "A=0 ; C=1 ; F=2 ; H=3 ; Q=4 ; S=5 ; V=6 ; X=7 ; B=8 ; G=9 ; R=10 ; W=11\n",
        "T=12 ; Z=13 ; Y=14 ; U=15 ; E=16 ; D=17 ; I=18 ; J=19"
      ],
      "metadata": {
        "id": "zHhjY8Do4Ebi"
      },
      "execution_count": 9,
      "outputs": []
    },
    {
      "cell_type": "code",
      "source": [
        "#faces = [[A,B,C,D,E]]"
      ],
      "metadata": {
        "id": "3rG6GT7OASav"
      },
      "execution_count": 10,
      "outputs": []
    },
    {
      "cell_type": "code",
      "source": [
        "fig = plt.figure(figsize=(8,8))\n",
        "ax = fig.add_subplot(111, projection='3d')\n",
        "ax.scatter(x, y, z, color = \"red\")\n",
        "#ax.plot_surface(np.array([x[A],x[B],x[C]]),np.array([y[A],y[B],y[C]]),np.array([[z[A]],[z[B]],[z[C]]]), color = \"blue\")\n",
        "plt.show()"
      ],
      "metadata": {
        "colab": {
          "base_uri": "https://localhost:8080/",
          "height": 466
        },
        "id": "Ki69bhimwVw0",
        "outputId": "a2b4c549-a091-4f7c-acfc-91522270c45b"
      },
      "execution_count": 11,
      "outputs": [
        {
          "output_type": "display_data",
          "data": {
            "text/plain": [
              "<Figure size 576x576 with 1 Axes>"
            ],
            "image/png": "[encoded data removed]"
          },
          "metadata": {
            "needs_background": "light"
          }
        }
      ]
    },
    {
      "cell_type": "code",
      "source": [
        "# constitution de la liste des triangles.\n",
        "# Chaque face du dodécaèdre correspond à trois triangles\n",
        "# (extend est une méthode de liste permettant de concaténer deux listes)\n",
        "\n",
        "triangles = [[A, B, C], [A, C, E], [E, C, D]]       # face ABCDE\n",
        "triangles.extend([[A, B, T],[T, B, G],[G, T, F]])   # face ABGFT\n",
        "triangles.extend([[F, G, H],[H, F, J],[J, H, I]])   # face FGHIJ\n",
        "triangles.extend([[B, C, U],[U, B, G],[G, U, H]])   # face BCUHG\n",
        "triangles.extend([[A, Z, T],[Z, A, Q],[Q, A, E]])   # face TAEQZ\n",
        "triangles.extend([[F, Z, T],[Z, F, J],[J, Z, V]])   # face FTZVJ\n",
        "triangles.extend([[J, I, V],[V, I, X],[X, V, R]])   # face JIXRV\n",
        "triangles.extend([[X, I, H],[H, X, U],[U, X, Y]])   # face XIHUY\n",
        "triangles.extend([[Y, U, C],[C, Y, D],[D, Y, S]])   # face YUCDS\n",
        "triangles.extend([[D, S, E],[E, S, Q],[Q, S, W]])   # face SDEQW\n",
        "triangles.extend([[W, Q, Z],[Z, W, R],[R, Z, V]])   # face WQZVR\n",
        "#triangles.extend([[X, R, Y],[Y, R, W],[W, Y, S]])   # face RXYSW"
      ],
      "metadata": {
        "id": "5V6kDdGSysBQ"
      },
      "execution_count": 12,
      "outputs": []
    },
    {
      "cell_type": "code",
      "source": [
        "#triangles"
      ],
      "metadata": {
        "id": "-eApkS8H27sM"
      },
      "execution_count": 13,
      "outputs": []
    },
    {
      "cell_type": "code",
      "source": [
        "ipv.style.use('minimal')\n",
        "ipv.plot_trisurf(x, z, y, triangles=triangles) \n",
        "# ipv.plot_trisurf crée une représentation 3D des triangles, \n",
        "# molette pour zoomer, \n",
        "# clic gauche enfoncé pour tourner\n",
        "\n",
        "# ipv.scatter(np.array(x), np.array(y), np.array(z), marker='sphere', color='blue')\n",
        "# ou\n",
        "# ipv.pylab.scatter(np.array(x), np.array(y), np.array(z), color='blue',marker='sphere')\n",
        "# pour ajouter les sommets... ou pas\n",
        "\n",
        "ipv.show()"
      ],
      "metadata": {
        "colab": {
          "base_uri": "https://localhost:8080/",
          "height": 542,
          "referenced_widgets": [
            "3fb0d46c17d24a96b8ace29ebdf5cfea",
            "fdb04a5c0f7a41a1a53f6fc64c833420",
            "46f556b96193457a8b87acd6d46f23f9",
            "56be7ff063aa4962849ad88ad0f1c52b",
            "165449367f2443d9b2e4abdd6b300cee",
            "137bcf9a05d343c6b01dfcd286d46a64",
            "63864aa5bfbb4d6880e613d052b1394d",
            "d78ca8eeab3341939224627c8ce116fc",
            "a27d35549f884cd1bebf3eff188ca5ac"
          ]
        },
        "id": "H7E65CAuzEhM",
        "outputId": "e6afd7e9-893b-4d0c-9250-533db27cc952"
      },
      "execution_count": 14,
      "outputs": [
        {
          "output_type": "display_data",
          "data": {
            "text/plain": [
              "VBox(children=(Figure(camera=PerspectiveCamera(fov=46.0, position=(0.0, 0.0, 2.0), projectionMatrix=(1.0, 0.0,…"
            ],
            "application/vnd.jupyter.widget-view+json": {
              "version_major": 2,
              "version_minor": 0,
              "model_id": "3fb0d46c17d24a96b8ace29ebdf5cfea"
            }
          },
          "metadata": {
            "application/vnd.jupyter.widget-view+json": {
              "colab": {
                "custom_widget_manager": {
                  "url": "https://ssl.gstatic.com/colaboratory-static/widgets/colab-cdn-widget-manager/b3e629b1971e1542/manager.min.js"
                }
              }
            }
          }
        }
      ]
    },
    {
      "cell_type": "code",
      "source": [
        "#from google.colab import output\n",
        "#output.disable_custom_widget_manager()"
      ],
      "metadata": {
        "id": "zoU-aW61oEhc"
      },
      "execution_count": 15,
      "outputs": []
    },
    {
      "cell_type": "code",
      "source": [],
      "metadata": {
        "id": "17yEVmTQUPPD"
      },
      "execution_count": null,
      "outputs": []
    }
  ]
}