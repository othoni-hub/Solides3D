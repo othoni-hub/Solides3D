{
  "cells": [
    {
      "cell_type": "markdown",
      "metadata": {
        "id": "view-in-github",
        "colab_type": "text"
      },
      "source": [
        "<a href=\"https://colab.research.google.com/github/othoni-hub/Solides3D/blob/main/Grand_Icosaedre.ipynb\" target=\"_parent\"><img src=\"https://colab.research.google.com/assets/colab-badge.svg\" alt=\"Open In Colab\"/></a>"
      ]
    },
    {
      "cell_type": "code",
      "execution_count": 3,
      "metadata": {
        "id": "Wcbfrnkx4GwW",
        "colab": {
          "base_uri": "https://localhost:8080/"
        },
        "outputId": "7818937e-1a5b-40bc-8799-02d658e0de71"
      },
      "outputs": [
        {
          "output_type": "stream",
          "name": "stdout",
          "text": [
            "Looking in indexes: https://pypi.org/simple, https://us-python.pkg.dev/colab-wheels/public/simple/\n",
            "Collecting ipyvolume\n",
            "  Downloading ipyvolume-0.5.2-py2.py3-none-any.whl (2.9 MB)\n",
            "\u001b[K     |████████████████████████████████| 2.9 MB 7.6 MB/s \n",
            "\u001b[?25hRequirement already satisfied: requests in /usr/local/lib/python3.8/dist-packages (from ipyvolume) (2.23.0)\n",
            "Collecting traittypes\n",
            "  Downloading traittypes-0.2.1-py2.py3-none-any.whl (8.6 kB)\n",
            "Requirement already satisfied: numpy in /usr/local/lib/python3.8/dist-packages (from ipyvolume) (1.21.6)\n",
            "Requirement already satisfied: ipywidgets>=7.5 in /usr/local/lib/python3.8/dist-packages (from ipyvolume) (7.7.1)\n",
            "Collecting pythreejs>=1.0.0\n",
            "  Downloading pythreejs-2.4.1-py3-none-any.whl (3.3 MB)\n",
            "\u001b[K     |████████████████████████████████| 3.3 MB 49.2 MB/s \n",
            "\u001b[?25hRequirement already satisfied: Pillow in /usr/local/lib/python3.8/dist-packages (from ipyvolume) (7.1.2)\n",
            "Collecting ipywebrtc\n",
            "  Downloading ipywebrtc-0.6.0-py2.py3-none-any.whl (260 kB)\n",
            "\u001b[K     |████████████████████████████████| 260 kB 65.0 MB/s \n",
            "\u001b[?25hRequirement already satisfied: traitlets in /usr/local/lib/python3.8/dist-packages (from ipyvolume) (5.7.1)\n",
            "Requirement already satisfied: widgetsnbextension~=3.6.0 in /usr/local/lib/python3.8/dist-packages (from ipywidgets>=7.5->ipyvolume) (3.6.1)\n",
            "Requirement already satisfied: ipython>=4.0.0 in /usr/local/lib/python3.8/dist-packages (from ipywidgets>=7.5->ipyvolume) (7.9.0)\n",
            "Requirement already satisfied: ipykernel>=4.5.1 in /usr/local/lib/python3.8/dist-packages (from ipywidgets>=7.5->ipyvolume) (5.3.4)\n",
            "Requirement already satisfied: ipython-genutils~=0.2.0 in /usr/local/lib/python3.8/dist-packages (from ipywidgets>=7.5->ipyvolume) (0.2.0)\n",
            "Requirement already satisfied: jupyterlab-widgets>=1.0.0 in /usr/local/lib/python3.8/dist-packages (from ipywidgets>=7.5->ipyvolume) (3.0.4)\n",
            "Requirement already satisfied: jupyter-client in /usr/local/lib/python3.8/dist-packages (from ipykernel>=4.5.1->ipywidgets>=7.5->ipyvolume) (6.1.12)\n",
            "Requirement already satisfied: tornado>=4.2 in /usr/local/lib/python3.8/dist-packages (from ipykernel>=4.5.1->ipywidgets>=7.5->ipyvolume) (6.0.4)\n",
            "Requirement already satisfied: decorator in /usr/local/lib/python3.8/dist-packages (from ipython>=4.0.0->ipywidgets>=7.5->ipyvolume) (4.4.2)\n",
            "Requirement already satisfied: pickleshare in /usr/local/lib/python3.8/dist-packages (from ipython>=4.0.0->ipywidgets>=7.5->ipyvolume) (0.7.5)\n",
            "Requirement already satisfied: pygments in /usr/local/lib/python3.8/dist-packages (from ipython>=4.0.0->ipywidgets>=7.5->ipyvolume) (2.6.1)\n",
            "Requirement already satisfied: pexpect in /usr/local/lib/python3.8/dist-packages (from ipython>=4.0.0->ipywidgets>=7.5->ipyvolume) (4.8.0)\n",
            "Requirement already satisfied: setuptools>=18.5 in /usr/local/lib/python3.8/dist-packages (from ipython>=4.0.0->ipywidgets>=7.5->ipyvolume) (57.4.0)\n",
            "Collecting jedi>=0.10\n",
            "  Downloading jedi-0.18.2-py2.py3-none-any.whl (1.6 MB)\n",
            "\u001b[K     |████████████████████████████████| 1.6 MB 48.3 MB/s \n",
            "\u001b[?25hRequirement already satisfied: prompt-toolkit<2.1.0,>=2.0.0 in /usr/local/lib/python3.8/dist-packages (from ipython>=4.0.0->ipywidgets>=7.5->ipyvolume) (2.0.10)\n",
            "Requirement already satisfied: backcall in /usr/local/lib/python3.8/dist-packages (from ipython>=4.0.0->ipywidgets>=7.5->ipyvolume) (0.2.0)\n",
            "Requirement already satisfied: parso<0.9.0,>=0.8.0 in /usr/local/lib/python3.8/dist-packages (from jedi>=0.10->ipython>=4.0.0->ipywidgets>=7.5->ipyvolume) (0.8.3)\n",
            "Requirement already satisfied: wcwidth in /usr/local/lib/python3.8/dist-packages (from prompt-toolkit<2.1.0,>=2.0.0->ipython>=4.0.0->ipywidgets>=7.5->ipyvolume) (0.2.5)\n",
            "Requirement already satisfied: six>=1.9.0 in /usr/local/lib/python3.8/dist-packages (from prompt-toolkit<2.1.0,>=2.0.0->ipython>=4.0.0->ipywidgets>=7.5->ipyvolume) (1.15.0)\n",
            "Collecting ipydatawidgets>=1.1.1\n",
            "  Downloading ipydatawidgets-4.3.2-py2.py3-none-any.whl (271 kB)\n",
            "\u001b[K     |████████████████████████████████| 271 kB 52.7 MB/s \n",
            "\u001b[?25hRequirement already satisfied: notebook>=4.4.1 in /usr/local/lib/python3.8/dist-packages (from widgetsnbextension~=3.6.0->ipywidgets>=7.5->ipyvolume) (5.7.16)\n",
            "Requirement already satisfied: terminado>=0.8.1 in /usr/local/lib/python3.8/dist-packages (from notebook>=4.4.1->widgetsnbextension~=3.6.0->ipywidgets>=7.5->ipyvolume) (0.13.3)\n",
            "Requirement already satisfied: pyzmq>=17 in /usr/local/lib/python3.8/dist-packages (from notebook>=4.4.1->widgetsnbextension~=3.6.0->ipywidgets>=7.5->ipyvolume) (23.2.1)\n",
            "Requirement already satisfied: Send2Trash in /usr/local/lib/python3.8/dist-packages (from notebook>=4.4.1->widgetsnbextension~=3.6.0->ipywidgets>=7.5->ipyvolume) (1.8.0)\n",
            "Requirement already satisfied: prometheus-client in /usr/local/lib/python3.8/dist-packages (from notebook>=4.4.1->widgetsnbextension~=3.6.0->ipywidgets>=7.5->ipyvolume) (0.15.0)\n",
            "Requirement already satisfied: nbconvert<6.0 in /usr/local/lib/python3.8/dist-packages (from notebook>=4.4.1->widgetsnbextension~=3.6.0->ipywidgets>=7.5->ipyvolume) (5.6.1)\n",
            "Requirement already satisfied: jupyter-core>=4.4.0 in /usr/local/lib/python3.8/dist-packages (from notebook>=4.4.1->widgetsnbextension~=3.6.0->ipywidgets>=7.5->ipyvolume) (5.1.0)\n",
            "Requirement already satisfied: jinja2<=3.0.0 in /usr/local/lib/python3.8/dist-packages (from notebook>=4.4.1->widgetsnbextension~=3.6.0->ipywidgets>=7.5->ipyvolume) (2.11.3)\n",
            "Requirement already satisfied: nbformat in /usr/local/lib/python3.8/dist-packages (from notebook>=4.4.1->widgetsnbextension~=3.6.0->ipywidgets>=7.5->ipyvolume) (5.7.0)\n",
            "Requirement already satisfied: MarkupSafe>=0.23 in /usr/local/lib/python3.8/dist-packages (from jinja2<=3.0.0->notebook>=4.4.1->widgetsnbextension~=3.6.0->ipywidgets>=7.5->ipyvolume) (2.0.1)\n",
            "Requirement already satisfied: python-dateutil>=2.1 in /usr/local/lib/python3.8/dist-packages (from jupyter-client->ipykernel>=4.5.1->ipywidgets>=7.5->ipyvolume) (2.8.2)\n",
            "Requirement already satisfied: platformdirs>=2.5 in /usr/local/lib/python3.8/dist-packages (from jupyter-core>=4.4.0->notebook>=4.4.1->widgetsnbextension~=3.6.0->ipywidgets>=7.5->ipyvolume) (2.6.0)\n",
            "Requirement already satisfied: bleach in /usr/local/lib/python3.8/dist-packages (from nbconvert<6.0->notebook>=4.4.1->widgetsnbextension~=3.6.0->ipywidgets>=7.5->ipyvolume) (5.0.1)\n",
            "Requirement already satisfied: pandocfilters>=1.4.1 in /usr/local/lib/python3.8/dist-packages (from nbconvert<6.0->notebook>=4.4.1->widgetsnbextension~=3.6.0->ipywidgets>=7.5->ipyvolume) (1.5.0)\n",
            "Requirement already satisfied: mistune<2,>=0.8.1 in /usr/local/lib/python3.8/dist-packages (from nbconvert<6.0->notebook>=4.4.1->widgetsnbextension~=3.6.0->ipywidgets>=7.5->ipyvolume) (0.8.4)\n",
            "Requirement already satisfied: entrypoints>=0.2.2 in /usr/local/lib/python3.8/dist-packages (from nbconvert<6.0->notebook>=4.4.1->widgetsnbextension~=3.6.0->ipywidgets>=7.5->ipyvolume) (0.4)\n",
            "Requirement already satisfied: testpath in /usr/local/lib/python3.8/dist-packages (from nbconvert<6.0->notebook>=4.4.1->widgetsnbextension~=3.6.0->ipywidgets>=7.5->ipyvolume) (0.6.0)\n",
            "Requirement already satisfied: defusedxml in /usr/local/lib/python3.8/dist-packages (from nbconvert<6.0->notebook>=4.4.1->widgetsnbextension~=3.6.0->ipywidgets>=7.5->ipyvolume) (0.7.1)\n",
            "Requirement already satisfied: fastjsonschema in /usr/local/lib/python3.8/dist-packages (from nbformat->notebook>=4.4.1->widgetsnbextension~=3.6.0->ipywidgets>=7.5->ipyvolume) (2.16.2)\n",
            "Requirement already satisfied: jsonschema>=2.6 in /usr/local/lib/python3.8/dist-packages (from nbformat->notebook>=4.4.1->widgetsnbextension~=3.6.0->ipywidgets>=7.5->ipyvolume) (4.3.3)\n",
            "Requirement already satisfied: pyrsistent!=0.17.0,!=0.17.1,!=0.17.2,>=0.14.0 in /usr/local/lib/python3.8/dist-packages (from jsonschema>=2.6->nbformat->notebook>=4.4.1->widgetsnbextension~=3.6.0->ipywidgets>=7.5->ipyvolume) (0.19.2)\n",
            "Requirement already satisfied: importlib-resources>=1.4.0 in /usr/local/lib/python3.8/dist-packages (from jsonschema>=2.6->nbformat->notebook>=4.4.1->widgetsnbextension~=3.6.0->ipywidgets>=7.5->ipyvolume) (5.10.1)\n",
            "Requirement already satisfied: attrs>=17.4.0 in /usr/local/lib/python3.8/dist-packages (from jsonschema>=2.6->nbformat->notebook>=4.4.1->widgetsnbextension~=3.6.0->ipywidgets>=7.5->ipyvolume) (22.1.0)\n",
            "Requirement already satisfied: zipp>=3.1.0 in /usr/local/lib/python3.8/dist-packages (from importlib-resources>=1.4.0->jsonschema>=2.6->nbformat->notebook>=4.4.1->widgetsnbextension~=3.6.0->ipywidgets>=7.5->ipyvolume) (3.11.0)\n",
            "Requirement already satisfied: ptyprocess in /usr/local/lib/python3.8/dist-packages (from terminado>=0.8.1->notebook>=4.4.1->widgetsnbextension~=3.6.0->ipywidgets>=7.5->ipyvolume) (0.7.0)\n",
            "Requirement already satisfied: webencodings in /usr/local/lib/python3.8/dist-packages (from bleach->nbconvert<6.0->notebook>=4.4.1->widgetsnbextension~=3.6.0->ipywidgets>=7.5->ipyvolume) (0.5.1)\n",
            "Requirement already satisfied: idna<3,>=2.5 in /usr/local/lib/python3.8/dist-packages (from requests->ipyvolume) (2.10)\n",
            "Requirement already satisfied: urllib3!=1.25.0,!=1.25.1,<1.26,>=1.21.1 in /usr/local/lib/python3.8/dist-packages (from requests->ipyvolume) (1.24.3)\n",
            "Requirement already satisfied: chardet<4,>=3.0.2 in /usr/local/lib/python3.8/dist-packages (from requests->ipyvolume) (3.0.4)\n",
            "Requirement already satisfied: certifi>=2017.4.17 in /usr/local/lib/python3.8/dist-packages (from requests->ipyvolume) (2022.12.7)\n",
            "Installing collected packages: jedi, traittypes, ipydatawidgets, pythreejs, ipywebrtc, ipyvolume\n",
            "Successfully installed ipydatawidgets-4.3.2 ipyvolume-0.5.2 ipywebrtc-0.6.0 jedi-0.18.2 pythreejs-2.4.1 traittypes-0.2.1\n"
          ]
        }
      ],
      "source": [
        "!pip install ipyvolume"
      ]
    },
    {
      "cell_type": "code",
      "execution_count": 4,
      "metadata": {
        "id": "Ugkd9I6y3d15"
      },
      "outputs": [],
      "source": [
        "\n",
        "import numpy as np\n",
        "import ipyvolume as ipv\n",
        "import matplotlib.pyplot as plt\n",
        "from math import sqrt\n",
        "from random import randint"
      ]
    },
    {
      "cell_type": "code",
      "execution_count": 5,
      "metadata": {
        "id": "WCyEtTD8mItP"
      },
      "outputs": [],
      "source": [
        "phi = (1+ sqrt(5))/2"
      ]
    },
    {
      "cell_type": "code",
      "source": [
        "couleurs = ['black','brown','red','orange','yellow','green','blue','purple','grey','white']"
      ],
      "metadata": {
        "id": "R_1naVftRtC9"
      },
      "execution_count": 6,
      "outputs": []
    },
    {
      "cell_type": "markdown",
      "metadata": {
        "id": "lVf5IROsFVSC"
      },
      "source": [
        "## **Grand Icosaèdre**"
      ]
    },
    {
      "cell_type": "code",
      "execution_count": 7,
      "metadata": {
        "id": "g4CQdYVTFVSD"
      },
      "outputs": [],
      "source": [
        "from google.colab import output\n",
        "output.enable_custom_widget_manager()"
      ]
    },
    {
      "cell_type": "code",
      "execution_count": 8,
      "metadata": {
        "id": "wSN3-ThZFVSE"
      },
      "outputs": [],
      "source": [
        "sommets = {\"A\" : [phi+1,0,phi],\"B\" : [-phi-1,0,phi], \n",
        "           \"C\" : [-phi-1,0,-phi],\"D\" : [phi+1,0,-phi],\n",
        "           \"E\" : [0,phi,phi+1],\"F\" : [0,phi,-phi-1],\n",
        "           \"G\" : [0,-phi,-phi-1],\"H\" : [0,-phi,phi+1],\n",
        "           \"I\" : [phi,phi+1,0],\"J\" : [phi,-phi-1,0],\n",
        "           \"K\" : [-phi,-phi-1,0],\"L\" : [-phi,phi+1,0]}"
      ]
    },
    {
      "cell_type": "code",
      "execution_count": 9,
      "metadata": {
        "id": "QJsazcBBFVSF"
      },
      "outputs": [],
      "source": [
        "x = [sommets[sommet][0] for sommet in sommets] # liste de abscisses\n",
        "y = [sommets[sommet][1] for sommet in sommets] # liste des ordonnées\n",
        "z = [sommets[sommet][2] for sommet in sommets] # liste des cotes"
      ]
    },
    {
      "cell_type": "code",
      "execution_count": 10,
      "metadata": {
        "id": "VPmDSC4tFVSF"
      },
      "outputs": [],
      "source": [
        "# rang des sommets dans la liste\n",
        "A=0 ; B=1 ; C=2 ; D=3 ; E=4 ; F=5 ; G=6 ; H=7 ; I=8 ; J=9 ; K=10 ; L=11"
      ]
    },
    {
      "cell_type": "code",
      "execution_count": 11,
      "metadata": {
        "id": "LXLSLMnhFVSG",
        "colab": {
          "base_uri": "https://localhost:8080/",
          "height": 466
        },
        "outputId": "ee8a332b-6660-4041-a866-41bc8196e29f"
      },
      "outputs": [
        {
          "output_type": "display_data",
          "data": {
            "text/plain": [
              "<Figure size 576x576 with 1 Axes>"
            ],
            "image/png": "[encoded data removed]"
          },
          "metadata": {
            "needs_background": "light"
          }
        }
      ],
      "source": [
        "fig = plt.figure(figsize=(8,8))\n",
        "ax = fig.add_subplot(111, projection='3d')\n",
        "ax.scatter(x, y, z, color = \"red\")\n",
        "#ax.plot_surface(np.array([x[A],x[B],x[C]]),np.array([y[A],y[B],y[C]]),np.array([[z[A]],[z[B]],[z[C]]]), color = \"blue\")\n",
        "plt.show()"
      ]
    },
    {
      "cell_type": "code",
      "execution_count": 12,
      "metadata": {
        "id": "pb_XwH1WFVSG"
      },
      "outputs": [],
      "source": [
        "# constitution de la liste des triangles.\n",
        "# (extend est une méthode de liste permettant de concaténer deux listes)\n",
        "\n",
        "triangles = [[A,B,G], [A,B,F], [A,G,L], [A,K,L], [A,F,K],\n",
        "             [B,G,I], [B,I,J], [B,F,J],\n",
        "             [C,I,J], [C,H,I], [C,E,J], [C,D,E], [C,D,H], \n",
        "             [D,K,L], [D,H,L], [D,E,K],\n",
        "             [E,F,K], [E,F,J], [G,H,I], [G,H,L]]    "
      ]
    },
    {
      "cell_type": "code",
      "execution_count": 13,
      "metadata": {
        "id": "rh__niUWFVSH"
      },
      "outputs": [],
      "source": [
        "#triangles"
      ]
    },
    {
      "cell_type": "code",
      "execution_count": 14,
      "metadata": {
        "colab": {
          "base_uri": "https://localhost:8080/",
          "height": 542,
          "referenced_widgets": [
            "8425973bb4154d77b266b82ce21f5592",
            "ce475605437f4f5191c7ce5d7924f5b8",
            "68f3b37e7ecf4022bd6c49cc58070f71",
            "ad1e347c39094050ab5504e172cf0666",
            "a177f631f165491f975d096f238f9c94",
            "a79fca5d32bc45c89d176ac46bd83271",
            "0b8a71a316884b86bae690311a5e4859",
            "4cce55f3894142c7995c11daf1b51e16",
            "0abcffea18bc4e8493c8e1bc294bc539"
          ]
        },
        "id": "4fcbVeffFVSI",
        "outputId": "2de70999-8346-4131-c47e-ab6aa9b63845"
      },
      "outputs": [
        {
          "output_type": "display_data",
          "data": {
            "text/plain": [
              "VBox(children=(Figure(camera=PerspectiveCamera(fov=46.0, position=(0.0, 0.0, 2.0), projectionMatrix=(1.0, 0.0,…"
            ],
            "application/vnd.jupyter.widget-view+json": {
              "version_major": 2,
              "version_minor": 0,
              "model_id": "8425973bb4154d77b266b82ce21f5592"
            }
          },
          "metadata": {
            "application/vnd.jupyter.widget-view+json": {
              "colab": {
                "custom_widget_manager": {
                  "url": "https://ssl.gstatic.com/colaboratory-static/widgets/colab-cdn-widget-manager/b3e629b1971e1542/manager.min.js"
                }
              }
            }
          }
        }
      ],
      "source": [
        "ipv.plot_trisurf(x, z, y, triangles=triangles, color =\"blue\")\n",
        "ipv.style.use('minimal')\n",
        "\n",
        "# ipv.plot_trisurf crée une représentation 3D des triangles, \n",
        "# molette pour zoomer, \n",
        "# clic gauche enfoncé pour tourner\n",
        "\n",
        "ipv.show()"
      ]
    },
    {
      "cell_type": "code",
      "execution_count": null,
      "metadata": {
        "id": "4R1g4cbRFVSJ"
      },
      "outputs": [],
      "source": [
        "#from google.colab import output\n",
        "#output.disable_custom_widget_manager()"
      ]
    },
    {
      "cell_type": "markdown",
      "source": [
        "animation : voir ici : https://github.com/widgetti/ipyvolume/blob/master/docs/source/examples/mesh.ipynb"
      ],
      "metadata": {
        "id": "O4BjHosqMydG"
      }
    },
    {
      "cell_type": "code",
      "execution_count": null,
      "metadata": {
        "id": "cn5wbn8dX0Fx"
      },
      "outputs": [],
      "source": []
    }
  ],
  "metadata": {
    "colab": {
      "provenance": [],
      "authorship_tag": "ABX9TyMKzQsx3dtgN2rqKMPYa2Wv",
      "include_colab_link": true
    },
    "kernelspec": {
      "display_name": "Python 3",
      "name": "python3"
    },
    "language_info": {
      "name": "python"
    },
    "widgets": {
      "application/vnd.jupyter.widget-state+json": {
        "8425973bb4154d77b266b82ce21f5592": {
          "model_module": "@jupyter-widgets/controls",
          "model_name": "VBoxModel",
          "model_module_version": "1.5.0",
          "state": {
            "_dom_classes": [],
            "_model_module": "@jupyter-widgets/controls",
            "_model_module_version": "1.5.0",
            "_model_name": "VBoxModel",
            "_view_count": null,
            "_view_module": "@jupyter-widgets/controls",
            "_view_module_version": "1.5.0",
            "_view_name": "VBoxView",
            "box_style": "",
            "children": [
              "IPY_MODEL_ce475605437f4f5191c7ce5d7924f5b8"
            ],
            "layout": "IPY_MODEL_68f3b37e7ecf4022bd6c49cc58070f71"
          }
        },
        "ce475605437f4f5191c7ce5d7924f5b8": {
          "model_module": "ipyvolume",
          "model_name": "FigureModel",
          "model_module_version": "~0.5.2",
          "state": {
            "_dom_classes": [],
            "_model_module": "ipyvolume",
            "_model_module_version": "~0.5.2",
            "_model_name": "FigureModel",
            "_view_count": null,
            "_view_module": "ipyvolume",
            "_view_module_version": "~0.5.2",
            "_view_name": "FigureView",
            "ambient_coefficient": 0.5,
            "animation": 1000,
            "animation_exponent": 1,
            "camera": "IPY_MODEL_ad1e347c39094050ab5504e172cf0666",
            "camera_center": [
              0,
              0,
              0
            ],
            "camera_control": "trackball",
            "camera_fov": 45,
            "capture_fps": null,
            "cube_resolution": 512,
            "diffuse_coefficient": 0.8,
            "displayscale": 1,
            "downscale": 1,
            "eye_separation": 6.4,
            "height": 500,
            "layout": "IPY_MODEL_a177f631f165491f975d096f238f9c94",
            "matrix_projection": [
              2.9448154572796907,
              0,
              0,
              0,
              0,
              2.3558523658237527,
              0,
              0,
              0,
              0,
              -1.00010000500025,
              -1,
              0,
              0,
              -0.200010000500025,
              0
            ],
            "matrix_world": [
              0.18566237630830554,
              0.04155094222141833,
              -0.016658621240797894,
              0,
              -0.02899205245480934,
              0.16575785969747678,
              0.09032331526548418,
              0,
              0.03410940274454525,
              -0.08527813076400549,
              0.1674475962663736,
              0,
              -2.7755575615628914e-17,
              1.1102230246251565e-16,
              -1.9999999999999936,
              1
            ],
            "meshes": [
              "IPY_MODEL_a79fca5d32bc45c89d176ac46bd83271"
            ],
            "mouse_mode": "normal",
            "panorama_mode": "no",
            "render_continuous": false,
            "scatters": [],
            "scene": "IPY_MODEL_0b8a71a316884b86bae690311a5e4859",
            "selection_mode": "replace",
            "selector": "lasso",
            "show": "Volume",
            "specular_coefficient": 0.5,
            "specular_exponent": 5,
            "stereo": false,
            "style": {
              "axes": {
                "visible": false,
                "label": {
                  "color": "black"
                },
                "ticklabel": {
                  "color": "black"
                },
                "color": "black"
              },
              "box": {
                "visible": false
              },
              "background-color": "white"
            },
            "volumes": [],
            "width": 400,
            "xlabel": "x",
            "xlim": [
              -2.618033988749895,
              2.618033988749895
            ],
            "ylabel": "y",
            "ylim": [
              -2.618033988749895,
              2.618033988749895
            ],
            "zlabel": "z",
            "zlim": [
              -2.618033988749895,
              2.618033988749895
            ]
          }
        },
        "68f3b37e7ecf4022bd6c49cc58070f71": {
          "model_module": "@jupyter-widgets/base",
          "model_name": "LayoutModel",
          "model_module_version": "1.2.0",
          "state": {
            "_model_module": "@jupyter-widgets/base",
            "_model_module_version": "1.2.0",
            "_model_name": "LayoutModel",
            "_view_count": null,
            "_view_module": "@jupyter-widgets/base",
            "_view_module_version": "1.2.0",
            "_view_name": "LayoutView",
            "align_content": null,
            "align_items": null,
            "align_self": null,
            "border": null,
            "bottom": null,
            "display": null,
            "flex": null,
            "flex_flow": null,
            "grid_area": null,
            "grid_auto_columns": null,
            "grid_auto_flow": null,
            "grid_auto_rows": null,
            "grid_column": null,
            "grid_gap": null,
            "grid_row": null,
            "grid_template_areas": null,
            "grid_template_columns": null,
            "grid_template_rows": null,
            "height": null,
            "justify_content": null,
            "justify_items": null,
            "left": null,
            "margin": null,
            "max_height": null,
            "max_width": null,
            "min_height": null,
            "min_width": null,
            "object_fit": null,
            "object_position": null,
            "order": null,
            "overflow": null,
            "overflow_x": null,
            "overflow_y": null,
            "padding": null,
            "right": null,
            "top": null,
            "visibility": null,
            "width": null
          }
        },
        "ad1e347c39094050ab5504e172cf0666": {
          "model_module": "jupyter-threejs",
          "model_name": "PerspectiveCameraModel",
          "model_module_version": "^2.1.0",
          "state": {
            "_model_module": "jupyter-threejs",
            "_model_module_version": "^2.1.0",
            "_model_name": "PerspectiveCameraModel",
            "_view_count": null,
            "_view_module": null,
            "_view_module_version": "",
            "_view_name": null,
            "aspect": 0.8,
            "castShadow": false,
            "children": [],
            "far": 2000,
            "focus": 10,
            "fov": 46,
            "frustumCulled": true,
            "matrix": [
              0.9721408232144343,
              -0.15180435746062132,
              0.1785991514423568,
              0,
              0.21756355800051247,
              0.8679194211808612,
              -0.4465220896744488,
              0,
              -0.08722567322823968,
              0.4729390186832196,
              0.8767669967196722,
              0,
              -0.17445134645647878,
              0.945878037366436,
              1.7535339934393388,
              1
            ],
            "matrixAutoUpdate": true,
            "matrixWorld": [
              0.9721408232144343,
              -0.15180435746062132,
              0.1785991514423568,
              0,
              0.21756355800051247,
              0.8679194211808612,
              -0.4465220896744488,
              0,
              -0.08722567322823968,
              0.4729390186832196,
              0.8767669967196722,
              0,
              -0.17445134645647878,
              0.945878037366436,
              1.7535339934393388,
              1
            ],
            "matrixWorldInverse": [
              0.9721408232144344,
              0.21756355800051252,
              -0.08722567322823968,
              0,
              -0.15180435746062135,
              0.8679194211808614,
              0.4729390186832197,
              0,
              0.17859915144235686,
              -0.4465220896744489,
              0.8767669967196723,
              0,
              -5.551115123125784e-17,
              0,
              -1.999999999999994,
              1.0000000000000002
            ],
            "matrixWorldNeedsUpdate": true,
            "modelViewMatrix": [
              1,
              0,
              0,
              0,
              0,
              1,
              0,
              0,
              0,
              0,
              1,
              0,
              0,
              0,
              0,
              1
            ],
            "name": "",
            "near": 0.1,
            "normalMatrix": [
              1,
              0,
              0,
              0,
              1,
              0,
              0,
              0,
              1
            ],
            "position": [
              -0.17445134645647878,
              0.945878037366436,
              1.7535339934393388
            ],
            "projectionMatrix": [
              2.9448154572796907,
              0,
              0,
              0,
              0,
              2.3558523658237527,
              0,
              0,
              0,
              0,
              -1.00010000500025,
              -1,
              0,
              0,
              -0.200010000500025,
              0
            ],
            "quaternion": [
              -0.23846090104768794,
              -0.06894128162203463,
              -0.09579503160965165,
              0.9639537386611154
            ],
            "receiveShadow": false,
            "renderOrder": 0,
            "rotation": [
              -0.4946782374918591,
              -0.08733666041899121,
              -0.22017044552912723,
              "XYZ"
            ],
            "scale": [
              1,
              1,
              1
            ],
            "type": "PerspectiveCamera",
            "up": [
              0.21756355800051247,
              0.8679194211808614,
              -0.4465220896744488
            ],
            "visible": true,
            "zoom": 1
          }
        },
        "a177f631f165491f975d096f238f9c94": {
          "model_module": "@jupyter-widgets/base",
          "model_name": "LayoutModel",
          "model_module_version": "1.2.0",
          "state": {
            "_model_module": "@jupyter-widgets/base",
            "_model_module_version": "1.2.0",
            "_model_name": "LayoutModel",
            "_view_count": null,
            "_view_module": "@jupyter-widgets/base",
            "_view_module_version": "1.2.0",
            "_view_name": "LayoutView",
            "align_content": null,
            "align_items": null,
            "align_self": null,
            "border": null,
            "bottom": null,
            "display": null,
            "flex": null,
            "flex_flow": null,
            "grid_area": null,
            "grid_auto_columns": null,
            "grid_auto_flow": null,
            "grid_auto_rows": null,
            "grid_column": null,
            "grid_gap": null,
            "grid_row": null,
            "grid_template_areas": null,
            "grid_template_columns": null,
            "grid_template_rows": null,
            "height": null,
            "justify_content": null,
            "justify_items": null,
            "left": null,
            "margin": null,
            "max_height": null,
            "max_width": null,
            "min_height": null,
            "min_width": null,
            "object_fit": null,
            "object_position": null,
            "order": null,
            "overflow": null,
            "overflow_x": null,
            "overflow_y": null,
            "padding": null,
            "right": null,
            "top": null,
            "visibility": null,
            "width": null
          }
        },
        "a79fca5d32bc45c89d176ac46bd83271": {
          "model_module": "ipyvolume",
          "model_name": "MeshModel",
          "model_module_version": "~0.5.2",
          "state": {
            "_model_module": "ipyvolume",
            "_model_module_version": "~0.5.2",
            "_model_name": "MeshModel",
            "_view_count": null,
            "_view_module": "ipyvolume",
            "_view_module_version": "~0.5.2",
            "_view_name": "MeshView",
            "color": "blue",
            "line_material": "IPY_MODEL_4cce55f3894142c7995c11daf1b51e16",
            "lines": null,
            "material": "IPY_MODEL_0abcffea18bc4e8493c8e1bc294bc539",
            "sequence_index": 0,
            "texture": null,
            "triangles": [
              {
                "dtype": "uint32",
                "shape": [
                  20,
                  3
                ]
              }
            ],
            "u": null,
            "v": null,
            "visible": true,
            "x": [
              {
                "dtype": "float32",
                "shape": [
                  12
                ]
              }
            ],
            "y": [
              {
                "dtype": "float32",
                "shape": [
                  12
                ]
              }
            ],
            "z": [
              {
                "dtype": "float32",
                "shape": [
                  12
                ]
              }
            ]
          }
        },
        "0b8a71a316884b86bae690311a5e4859": {
          "model_module": "jupyter-threejs",
          "model_name": "SceneModel",
          "model_module_version": "^2.1.0",
          "state": {
            "_model_module": "jupyter-threejs",
            "_model_module_version": "^2.1.0",
            "_model_name": "SceneModel",
            "_view_count": null,
            "_view_module": null,
            "_view_module_version": "",
            "_view_name": null,
            "autoUpdate": true,
            "background": null,
            "castShadow": false,
            "children": [],
            "fog": null,
            "frustumCulled": true,
            "matrix": [
              1,
              0,
              0,
              0,
              0,
              1,
              0,
              0,
              0,
              0,
              1,
              0,
              0,
              0,
              0,
              1
            ],
            "matrixAutoUpdate": true,
            "matrixWorld": [
              1,
              0,
              0,
              0,
              0,
              1,
              0,
              0,
              0,
              0,
              1,
              0,
              0,
              0,
              0,
              1
            ],
            "matrixWorldNeedsUpdate": false,
            "modelViewMatrix": [
              1,
              0,
              0,
              0,
              0,
              1,
              0,
              0,
              0,
              0,
              1,
              0,
              0,
              0,
              0,
              1
            ],
            "name": "",
            "normalMatrix": [
              1,
              0,
              0,
              0,
              1,
              0,
              0,
              0,
              1
            ],
            "overrideMaterial": null,
            "position": [
              0,
              0,
              0
            ],
            "quaternion": [
              0,
              0,
              0,
              1
            ],
            "receiveShadow": false,
            "renderOrder": 0,
            "rotation": [
              0,
              0,
              0,
              "XYZ"
            ],
            "scale": [
              1,
              1,
              1
            ],
            "type": "Scene",
            "up": [
              0,
              1,
              0
            ],
            "visible": true
          }
        },
        "4cce55f3894142c7995c11daf1b51e16": {
          "model_module": "jupyter-threejs",
          "model_name": "ShaderMaterialModel",
          "model_module_version": "^2.1.0",
          "state": {
            "_model_module": "jupyter-threejs",
            "_model_module_version": "^2.1.0",
            "_model_name": "ShaderMaterialModel",
            "_view_count": null,
            "_view_module": null,
            "_view_module_version": "",
            "_view_name": null,
            "alphaTest": 0,
            "blendDst": "OneMinusSrcAlphaFactor",
            "blendDstAlpha": 0,
            "blendEquation": "AddEquation",
            "blendEquationAlpha": 0,
            "blendSrc": "SrcAlphaFactor",
            "blendSrcAlpha": 0,
            "blending": "NormalBlending",
            "clipIntersection": false,
            "clipShadows": false,
            "clipping": false,
            "clippingPlanes": [],
            "colorWrite": true,
            "defines": null,
            "depthFunc": "LessEqualDepth",
            "depthTest": true,
            "depthWrite": true,
            "dithering": false,
            "extensions": {},
            "flatShading": false,
            "fog": false,
            "fragmentShader": "",
            "lights": false,
            "linewidth": 1,
            "morphNormals": false,
            "morphTargets": false,
            "name": "",
            "opacity": 1,
            "overdraw": 0,
            "polygonOffset": false,
            "polygonOffsetFactor": 0,
            "polygonOffsetUnits": 0,
            "precision": null,
            "premultipliedAlpha": false,
            "shadowSide": null,
            "side": "FrontSide",
            "skinning": false,
            "transparent": false,
            "type": "ShaderMaterial",
            "uniforms": {},
            "uniformsNeedUpdate": false,
            "vertexColors": "NoColors",
            "vertexShader": "",
            "visible": true,
            "wireframe": false,
            "wireframeLinewidth": 1
          }
        },
        "0abcffea18bc4e8493c8e1bc294bc539": {
          "model_module": "jupyter-threejs",
          "model_name": "ShaderMaterialModel",
          "model_module_version": "^2.1.0",
          "state": {
            "_model_module": "jupyter-threejs",
            "_model_module_version": "^2.1.0",
            "_model_name": "ShaderMaterialModel",
            "_view_count": null,
            "_view_module": null,
            "_view_module_version": "",
            "_view_name": null,
            "alphaTest": 0,
            "blendDst": "OneMinusSrcAlphaFactor",
            "blendDstAlpha": 0,
            "blendEquation": "AddEquation",
            "blendEquationAlpha": 0,
            "blendSrc": "SrcAlphaFactor",
            "blendSrcAlpha": 0,
            "blending": "NormalBlending",
            "clipIntersection": false,
            "clipShadows": false,
            "clipping": false,
            "clippingPlanes": [],
            "colorWrite": true,
            "defines": null,
            "depthFunc": "LessEqualDepth",
            "depthTest": true,
            "depthWrite": true,
            "dithering": false,
            "extensions": {},
            "flatShading": false,
            "fog": false,
            "fragmentShader": "",
            "lights": false,
            "linewidth": 1,
            "morphNormals": false,
            "morphTargets": false,
            "name": "",
            "opacity": 1,
            "overdraw": 0,
            "polygonOffset": false,
            "polygonOffsetFactor": 0,
            "polygonOffsetUnits": 0,
            "precision": null,
            "premultipliedAlpha": false,
            "shadowSide": null,
            "side": "DoubleSide",
            "skinning": false,
            "transparent": false,
            "type": "ShaderMaterial",
            "uniforms": {},
            "uniformsNeedUpdate": false,
            "vertexColors": "NoColors",
            "vertexShader": "",
            "visible": true,
            "wireframe": false,
            "wireframeLinewidth": 1
          }
        }
      }
    }
  },
  "nbformat": 4,
  "nbformat_minor": 0
}